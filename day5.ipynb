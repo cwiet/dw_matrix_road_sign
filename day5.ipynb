{
  "nbformat": 4,
  "nbformat_minor": 0,
  "metadata": {
    "colab": {
      "name": "day5.ipynb",
      "provenance": [],
      "mount_file_id": "1RrSXoxSUp1dyhB2AaKxI2fONYtdXWiwE",
      "authorship_tag": "ABX9TyPBSsBYLQkecJmba5dLg2N3",
      "include_colab_link": true
    },
    "kernelspec": {
      "name": "python3",
      "display_name": "Python 3"
    },
    "accelerator": "GPU"
  },
  "cells": [
    {
      "cell_type": "markdown",
      "metadata": {
        "id": "view-in-github",
        "colab_type": "text"
      },
      "source": [
        "<a href=\"https://colab.research.google.com/github/cwiet/dw_matrix_road_sign/blob/master/day5.ipynb\" target=\"_parent\"><img src=\"https://colab.research.google.com/assets/colab-badge.svg\" alt=\"Open In Colab\"/></a>"
      ]
    },
    {
      "cell_type": "code",
      "metadata": {
        "id": "WSNPCiqfoI-D",
        "colab_type": "code",
        "colab": {
          "base_uri": "https://localhost:8080/",
          "height": 170
        },
        "outputId": "f7dd74ce-43e5-4412-b738-ec43b15aa0f2"
      },
      "source": [
        "!pip install hyperopt"
      ],
      "execution_count": 1,
      "outputs": [
        {
          "output_type": "stream",
          "text": [
            "Requirement already satisfied: hyperopt in /usr/local/lib/python3.6/dist-packages (0.1.2)\n",
            "Requirement already satisfied: networkx in /usr/local/lib/python3.6/dist-packages (from hyperopt) (2.4)\n",
            "Requirement already satisfied: tqdm in /usr/local/lib/python3.6/dist-packages (from hyperopt) (4.38.0)\n",
            "Requirement already satisfied: pymongo in /usr/local/lib/python3.6/dist-packages (from hyperopt) (3.10.1)\n",
            "Requirement already satisfied: future in /usr/local/lib/python3.6/dist-packages (from hyperopt) (0.16.0)\n",
            "Requirement already satisfied: scipy in /usr/local/lib/python3.6/dist-packages (from hyperopt) (1.4.1)\n",
            "Requirement already satisfied: six in /usr/local/lib/python3.6/dist-packages (from hyperopt) (1.12.0)\n",
            "Requirement already satisfied: numpy in /usr/local/lib/python3.6/dist-packages (from hyperopt) (1.18.2)\n",
            "Requirement already satisfied: decorator>=4.3.0 in /usr/local/lib/python3.6/dist-packages (from networkx->hyperopt) (4.4.2)\n"
          ],
          "name": "stdout"
        }
      ]
    },
    {
      "cell_type": "code",
      "metadata": {
        "id": "t4Pr3YjZofnJ",
        "colab_type": "code",
        "colab": {
          "base_uri": "https://localhost:8080/",
          "height": 51
        },
        "outputId": "e5bd4b08-d44a-42f3-d907-3399ce984bf4"
      },
      "source": [
        "import pandas as pd\n",
        "import numpy as np\n",
        "import os\n",
        "import datetime\n",
        "\n",
        "import tensorflow as tf\n",
        "from tensorflow.keras.models import Sequential\n",
        "from tensorflow.keras.layers import Conv2D, MaxPool2D, Dense, Flatten, Dropout\n",
        "from tensorflow.keras.utils import to_categorical\n",
        "\n",
        "%load_ext tensorboard \n",
        "\n",
        "import matplotlib.pyplot as plt\n",
        "from skimage import color, exposure\n",
        "\n",
        "from sklearn.metrics import accuracy_score\n",
        "\n",
        "from hyperopt import hp, STATUS_OK, tpe, Trials, fmin"
      ],
      "execution_count": 10,
      "outputs": [
        {
          "output_type": "stream",
          "text": [
            "The tensorboard extension is already loaded. To reload it, use:\n",
            "  %reload_ext tensorboard\n"
          ],
          "name": "stdout"
        }
      ]
    },
    {
      "cell_type": "code",
      "metadata": {
        "id": "5VT3jdjYotP5",
        "colab_type": "code",
        "colab": {
          "base_uri": "https://localhost:8080/",
          "height": 34
        },
        "outputId": "7b6c6a24-773f-4a0a-c42d-ef6053982205"
      },
      "source": [
        "cd '/content/drive/My Drive/Colab Notebooks/matrix/matrix_three/dw_matrix_road_sign'"
      ],
      "execution_count": 3,
      "outputs": [
        {
          "output_type": "stream",
          "text": [
            "/content/drive/My Drive/Colab Notebooks/matrix/matrix_three/dw_matrix_road_sign\n"
          ],
          "name": "stdout"
        }
      ]
    },
    {
      "cell_type": "code",
      "metadata": {
        "id": "Xv4Gh8kjowHl",
        "colab_type": "code",
        "colab": {}
      },
      "source": [
        "train = pd.read_pickle('data/train.p')\n",
        "test = pd.read_pickle('data/test.p')\n",
        "\n",
        "X_train, y_train = train['features'], train['labels']\n",
        "X_test, y_test = test['features'], test['labels']"
      ],
      "execution_count": 0,
      "outputs": []
    },
    {
      "cell_type": "code",
      "metadata": {
        "id": "kbVG1gKlo3_j",
        "colab_type": "code",
        "colab": {}
      },
      "source": [
        "if y_train.ndim == 1: y_train = to_categorical(y_train)\n",
        "if y_test.ndim == 1: y_test = to_categorical(y_test)\n",
        "\n",
        "input_shape = X_train.shape[1:]\n",
        "num_classes = y_train.shape[1]"
      ],
      "execution_count": 0,
      "outputs": []
    },
    {
      "cell_type": "code",
      "metadata": {
        "id": "y6a9sxt3o9x_",
        "colab_type": "code",
        "colab": {}
      },
      "source": [
        "def train_model(model, X_train, y_train, params_fit={}):\n",
        "  model.compile(loss='categorical_crossentropy', optimizer='Adam', metrics=['accuracy'])\n",
        "\n",
        "  logdir = os.path.join(\"logs\", datetime.datetime.now().strftime(\"%Y%m%d-%H%M%S\"))\n",
        "  tensorboard_callback = tf.keras.callbacks.TensorBoard(logdir, histogram_freq=1)\n",
        "\n",
        "  model.fit(\n",
        "      X_train,\n",
        "      y_train,\n",
        "      batch_size=params_fit.get('batch_size', 128),\n",
        "      epochs=params_fit.get('epochs', 5),\n",
        "      verbose=params_fit.get('verbose', 1),\n",
        "      validation_data=params_fit.get('validation_data', (X_train, y_train)),\n",
        "      callbacks=[tensorboard_callback]\n",
        "      )\n",
        "  \n",
        "  return model\n",
        "\n",
        "def predict(model_trained, X_test, y_test, scoring=accuracy_score):\n",
        "\n",
        "  y_test_norm = np.argmax(y_test, axis=1)\n",
        "\n",
        "  y_pred_prob = model_trained.predict(X_test)\n",
        "  y_pred = np.argmax(y_pred_prob, axis=1)\n",
        "\n",
        "  return scoring(y_test_norm, y_pred)"
      ],
      "execution_count": 0,
      "outputs": []
    },
    {
      "cell_type": "code",
      "metadata": {
        "id": "uzCCeXnApJ0x",
        "colab_type": "code",
        "colab": {}
      },
      "source": [
        "def get_cnn_v4(input_shape, num_classes):\n",
        "  return Sequential([\n",
        "    Conv2D(filters=32, kernel_size=(3, 3), activation='relu', input_shape=input_shape),\n",
        "    Conv2D(filters=32, kernel_size=(3, 3), activation='relu', padding='same'),  \n",
        "    MaxPool2D(),\n",
        "    Dropout(0.3),\n",
        "\n",
        "    Conv2D(filters=64, kernel_size=(3, 3), activation='relu', padding='same'),\n",
        "    Conv2D(filters=64, kernel_size=(3, 3), activation='relu'),  \n",
        "    MaxPool2D(),\n",
        "    Dropout(0.3),\n",
        "\n",
        "    Conv2D(filters=64, kernel_size=(3, 3), activation='relu', padding='same'),\n",
        "    Conv2D(filters=64, kernel_size=(3, 3), activation='relu'),  \n",
        "    MaxPool2D(),\n",
        "    Dropout(0.3),\n",
        "\n",
        "    Flatten(),\n",
        "\n",
        "    Dense(1024, activation='relu'),\n",
        "    Dropout(0.3),\n",
        "\n",
        "    Dense(1024, activation='relu'),\n",
        "    Dropout(0.3),\n",
        "\n",
        "    Dense(num_classes, activation='softmax'),\n",
        "  ])"
      ],
      "execution_count": 0,
      "outputs": []
    },
    {
      "cell_type": "code",
      "metadata": {
        "id": "hX8knxlQpf8j",
        "colab_type": "code",
        "colab": {
          "base_uri": "https://localhost:8080/",
          "height": 204
        },
        "outputId": "e6a64613-0bc0-46ff-997d-4c20d9fbd572"
      },
      "source": [
        "model = get_cnn_v4(input_shape, num_classes)\n",
        "model_trained = train_model(model, X_train, y_train)\n",
        "\n",
        "predict(model_trained, X_test, y_test)"
      ],
      "execution_count": 8,
      "outputs": [
        {
          "output_type": "stream",
          "text": [
            "Epoch 1/5\n",
            "272/272 [==============================] - 5s 17ms/step - loss: 2.9243 - accuracy: 0.2191 - val_loss: 1.3602 - val_accuracy: 0.5874\n",
            "Epoch 2/5\n",
            "272/272 [==============================] - 4s 16ms/step - loss: 1.0327 - accuracy: 0.6759 - val_loss: 0.2854 - val_accuracy: 0.9171\n",
            "Epoch 3/5\n",
            "272/272 [==============================] - 4s 15ms/step - loss: 0.4724 - accuracy: 0.8510 - val_loss: 0.1429 - val_accuracy: 0.9538\n",
            "Epoch 4/5\n",
            "272/272 [==============================] - 4s 15ms/step - loss: 0.3239 - accuracy: 0.9004 - val_loss: 0.0929 - val_accuracy: 0.9715\n",
            "Epoch 5/5\n",
            "272/272 [==============================] - 4s 15ms/step - loss: 0.2384 - accuracy: 0.9279 - val_loss: 0.0684 - val_accuracy: 0.9779\n"
          ],
          "name": "stdout"
        },
        {
          "output_type": "execute_result",
          "data": {
            "text/plain": [
              "0.9609977324263038"
            ]
          },
          "metadata": {
            "tags": []
          },
          "execution_count": 8
        }
      ]
    },
    {
      "cell_type": "code",
      "metadata": {
        "id": "90nK2eUYuxVm",
        "colab_type": "code",
        "colab": {}
      },
      "source": [
        "def get_model(params):\n",
        "  return Sequential([\n",
        "    Conv2D(filters=32, kernel_size=(3, 3), activation='relu', input_shape=input_shape),\n",
        "    Conv2D(filters=32, kernel_size=(3, 3), activation='relu', padding='same'),  \n",
        "    MaxPool2D(),\n",
        "    Dropout(params['dropout_cnn_block_one']),\n",
        "\n",
        "    Conv2D(filters=64, kernel_size=(3, 3), activation='relu', padding='same'),\n",
        "    Conv2D(filters=64, kernel_size=(3, 3), activation='relu'),  \n",
        "    MaxPool2D(),\n",
        "    Dropout(params['dropout_cnn_block_two']),\n",
        "\n",
        "    Conv2D(filters=128, kernel_size=(3, 3), activation='relu', padding='same'),\n",
        "    Conv2D(filters=128, kernel_size=(3, 3), activation='relu'),  \n",
        "    MaxPool2D(),\n",
        "    Dropout(params['dropout_cnn_block_three']),\n",
        "\n",
        "    Flatten(),\n",
        "\n",
        "    Dense(1024, activation='relu'),\n",
        "    Dropout(params['dropout_dense_block_one']),\n",
        "\n",
        "    Dense(1024, activation='relu'),\n",
        "    Dropout(params['dropout_dense_block_two']),\n",
        "\n",
        "    Dense(num_classes, activation='softmax'),\n",
        "  ])"
      ],
      "execution_count": 0,
      "outputs": []
    },
    {
      "cell_type": "code",
      "metadata": {
        "id": "ntQl5qfaprS2",
        "colab_type": "code",
        "colab": {}
      },
      "source": [
        "def func_obj(params):\n",
        "  model = get_model(params)\n",
        "  model.compile(loss='categorical_crossentropy', optimizer='Adam', metrics=['accuracy'])\n",
        "\n",
        "  model.fit(\n",
        "      X_train,\n",
        "      y_train,\n",
        "      batch_size=int(params.get('batch_size', 128)),\n",
        "      epochs=5,\n",
        "      verbose=0\n",
        "      )\n",
        "  \n",
        "  score = model.evaluate(X_test, y_test, verbose=0)\n",
        "  accuracy = score[1]\n",
        "  print(params, 'accuracy={}'.format(accuracy))\n",
        "  \n",
        "  return {'loss': -accuracy, 'status': STATUS_OK, 'model': model}"
      ],
      "execution_count": 0,
      "outputs": []
    },
    {
      "cell_type": "code",
      "metadata": {
        "id": "Y2WaZOCNq7Sr",
        "colab_type": "code",
        "colab": {
          "base_uri": "https://localhost:8080/",
          "height": 904
        },
        "outputId": "c9285219-151f-4e5f-ecad-454e32f596bf"
      },
      "source": [
        "space = {\n",
        "  'batch_size': hp.quniform('batch_size', 100, 200, 10), \n",
        "  'dropout_cnn_block_one': hp.uniform('dropout_cnn_block_one', 0.3, 0.5),\n",
        "  'dropout_cnn_block_two': hp.uniform('dropout_cnn_block_two', 0.3, 0.5),\n",
        "  'dropout_cnn_block_three': hp.uniform('dropout_cnn_block_three', 0.3, 0.5),\n",
        "\n",
        "  'dropout_dense_block_one': hp.uniform('dropout_dense_block_one', 0.3, 0.7),\n",
        "  'dropout_dense_block_two': hp.uniform('dropout_dense_block_two', 0.3, 0.7),\n",
        "}\n",
        "\n",
        "best = fmin(\n",
        "    func_obj,\n",
        "    space,\n",
        "    tpe.suggest,\n",
        "    25,\n",
        "    Trials()\n",
        ")"
      ],
      "execution_count": 19,
      "outputs": [
        {
          "output_type": "stream",
          "text": [
            "{'batch_size': 190.0, 'dropout_cnn_block_one': 0.4950195079977633, 'dropout_cnn_block_three': 0.3900399364749925, 'dropout_cnn_block_two': 0.3721592966750244, 'dropout_dense_block_one': 0.30333982743293936, 'dropout_dense_block_two': 0.6729698790741743}\n",
            "accuracy=0.8725623488426208\n",
            "{'batch_size': 100.0, 'dropout_cnn_block_one': 0.47877518617808723, 'dropout_cnn_block_three': 0.3924090040839528, 'dropout_cnn_block_two': 0.36958069770558044, 'dropout_dense_block_one': 0.522237545038053, 'dropout_dense_block_two': 0.4139369956308325}\n",
            "accuracy=0.9149659872055054\n",
            "{'batch_size': 200.0, 'dropout_cnn_block_one': 0.31981264690482575, 'dropout_cnn_block_three': 0.3648683842373779, 'dropout_cnn_block_two': 0.41042995051894626, 'dropout_dense_block_one': 0.5503203117415837, 'dropout_dense_block_two': 0.5775925959875926}\n",
            "accuracy=0.9643990993499756\n",
            "{'batch_size': 150.0, 'dropout_cnn_block_one': 0.4350812125751746, 'dropout_cnn_block_three': 0.4869732141101889, 'dropout_cnn_block_two': 0.4765893349279451, 'dropout_dense_block_one': 0.31367600811023044, 'dropout_dense_block_two': 0.3784707903838289}\n",
            "accuracy=0.8517006635665894\n",
            "{'batch_size': 170.0, 'dropout_cnn_block_one': 0.40371935930821845, 'dropout_cnn_block_three': 0.3724658472080149, 'dropout_cnn_block_two': 0.49149340040627, 'dropout_dense_block_one': 0.5756577923142311, 'dropout_dense_block_two': 0.3779200976935749}\n",
            "accuracy=0.8287981748580933\n",
            "{'batch_size': 130.0, 'dropout_cnn_block_one': 0.39994219711330875, 'dropout_cnn_block_three': 0.38258119903384513, 'dropout_cnn_block_two': 0.34222538029260224, 'dropout_dense_block_one': 0.6098778153751768, 'dropout_dense_block_two': 0.3334282224740705}\n",
            "accuracy=0.9430838823318481\n",
            "{'batch_size': 120.0, 'dropout_cnn_block_one': 0.3703993735048649, 'dropout_cnn_block_three': 0.41362424616306726, 'dropout_cnn_block_two': 0.36958956519933706, 'dropout_dense_block_one': 0.43341198889725163, 'dropout_dense_block_two': 0.44337267696261584}\n",
            "accuracy=0.9707483053207397\n",
            "{'batch_size': 160.0, 'dropout_cnn_block_one': 0.3983813427170173, 'dropout_cnn_block_three': 0.4578090881495468, 'dropout_cnn_block_two': 0.3123130213251874, 'dropout_dense_block_one': 0.5131516734086958, 'dropout_dense_block_two': 0.6145241546700579}\n",
            "accuracy=0.6786848306655884\n",
            "{'batch_size': 120.0, 'dropout_cnn_block_one': 0.3646747354840906, 'dropout_cnn_block_three': 0.4969072322280553, 'dropout_cnn_block_two': 0.4608064294940379, 'dropout_dense_block_one': 0.43402566406294846, 'dropout_dense_block_two': 0.6320970837036527}\n",
            "accuracy=0.7965986132621765\n",
            "{'batch_size': 110.0, 'dropout_cnn_block_one': 0.37519237093872615, 'dropout_cnn_block_three': 0.420990340335025, 'dropout_cnn_block_two': 0.3848027342852398, 'dropout_dense_block_one': 0.4516255702073759, 'dropout_dense_block_two': 0.6784038750234073}\n",
            "accuracy=0.9299319982528687\n",
            "{'batch_size': 100.0, 'dropout_cnn_block_one': 0.30796777736125286, 'dropout_cnn_block_three': 0.4467127319650548, 'dropout_cnn_block_two': 0.4473237415189496, 'dropout_dense_block_one': 0.3128281468774266, 'dropout_dense_block_two': 0.6058428999252821}\n",
            "accuracy=0.9532879590988159\n",
            "{'batch_size': 100.0, 'dropout_cnn_block_one': 0.3785579561415965, 'dropout_cnn_block_three': 0.38264713838968406, 'dropout_cnn_block_two': 0.32029732798994837, 'dropout_dense_block_one': 0.33591630583983, 'dropout_dense_block_two': 0.6408144476143308}\n",
            "accuracy=0.9659863710403442\n",
            "{'batch_size': 160.0, 'dropout_cnn_block_one': 0.44250949033862164, 'dropout_cnn_block_three': 0.45629356989960773, 'dropout_cnn_block_two': 0.47648007654053615, 'dropout_dense_block_one': 0.5700542143176914, 'dropout_dense_block_two': 0.5811297165851046}\n",
            "accuracy=0.8335601091384888\n",
            "{'batch_size': 120.0, 'dropout_cnn_block_one': 0.4284019274043651, 'dropout_cnn_block_three': 0.3718379074081381, 'dropout_cnn_block_two': 0.30712521547709615, 'dropout_dense_block_one': 0.3910583587027494, 'dropout_dense_block_two': 0.4217446932374589}\n",
            "accuracy=0.9702947735786438\n",
            "{'batch_size': 160.0, 'dropout_cnn_block_one': 0.3381019359031706, 'dropout_cnn_block_three': 0.46535508166146883, 'dropout_cnn_block_two': 0.4731767778362599, 'dropout_dense_block_one': 0.46308861787523253, 'dropout_dense_block_two': 0.47324906151104174}\n",
            "accuracy=0.9018140435218811\n",
            "{'batch_size': 100.0, 'dropout_cnn_block_one': 0.4166975149972417, 'dropout_cnn_block_three': 0.4652236312551229, 'dropout_cnn_block_two': 0.40372560440221616, 'dropout_dense_block_one': 0.5888316810449088, 'dropout_dense_block_two': 0.4813145981507606}\n",
            "accuracy=0.9174603223800659\n",
            "{'batch_size': 170.0, 'dropout_cnn_block_one': 0.46961322363793806, 'dropout_cnn_block_three': 0.4656477501002291, 'dropout_cnn_block_two': 0.3953243212033422, 'dropout_dense_block_one': 0.4253892977538346, 'dropout_dense_block_two': 0.3700174749714453}\n",
            "accuracy=0.9120181202888489\n",
            "{'batch_size': 180.0, 'dropout_cnn_block_one': 0.4145732920585333, 'dropout_cnn_block_three': 0.350447663081845, 'dropout_cnn_block_two': 0.38571677327032317, 'dropout_dense_block_one': 0.5113478898240766, 'dropout_dense_block_two': 0.5515451861977716}\n",
            "accuracy=0.900907039642334\n",
            "{'batch_size': 130.0, 'dropout_cnn_block_one': 0.31203229736402943, 'dropout_cnn_block_three': 0.43736505511211937, 'dropout_cnn_block_two': 0.467179702555718, 'dropout_dense_block_one': 0.4913304080143993, 'dropout_dense_block_two': 0.6801110811529281}\n",
            "accuracy=0.9478458166122437\n",
            "{'batch_size': 180.0, 'dropout_cnn_block_one': 0.49794249885771125, 'dropout_cnn_block_three': 0.4443494344694686, 'dropout_cnn_block_two': 0.47690215612654624, 'dropout_dense_block_one': 0.5218644249087253, 'dropout_dense_block_two': 0.5350910856586287}\n",
            "accuracy=0.8117913603782654\n",
            "{'batch_size': 130.0, 'dropout_cnn_block_one': 0.3444352066253064, 'dropout_cnn_block_three': 0.304084658951869, 'dropout_cnn_block_two': 0.34183379150591037, 'dropout_dense_block_one': 0.6919183022752933, 'dropout_dense_block_two': 0.4387650662103093}\n",
            "accuracy=0.9285714030265808\n",
            "{'batch_size': 120.0, 'dropout_cnn_block_one': 0.4405033969076379, 'dropout_cnn_block_three': 0.32216578937435464, 'dropout_cnn_block_two': 0.42444501627367703, 'dropout_dense_block_one': 0.3741699175108142, 'dropout_dense_block_two': 0.3025360434824739}\n",
            "accuracy=0.9321995377540588\n",
            "{'batch_size': 140.0, 'dropout_cnn_block_one': 0.46307668812600744, 'dropout_cnn_block_three': 0.4140858503272624, 'dropout_cnn_block_two': 0.3377537500093761, 'dropout_dense_block_one': 0.3884770715334055, 'dropout_dense_block_two': 0.43960285465194815}\n",
            "accuracy=0.960544228553772\n",
            "{'batch_size': 110.0, 'dropout_cnn_block_one': 0.34825256040939756, 'dropout_cnn_block_three': 0.346897416619375, 'dropout_cnn_block_two': 0.30203080001984883, 'dropout_dense_block_one': 0.3907743305413855, 'dropout_dense_block_two': 0.5205293433719873}\n",
            "accuracy=0.9664399027824402\n",
            "{'batch_size': 140.0, 'dropout_cnn_block_one': 0.3834081056873209, 'dropout_cnn_block_three': 0.41097157875852325, 'dropout_cnn_block_two': 0.3589581481465487, 'dropout_dense_block_one': 0.34900199366067075, 'dropout_dense_block_two': 0.41333218322069015}\n",
            "accuracy=0.9519274234771729\n",
            "100%|██████████| 25/25 [05:02<00:00, 12.10s/it, best loss: -0.9707483053207397]\n"
          ],
          "name": "stdout"
        }
      ]
    },
    {
      "cell_type": "code",
      "metadata": {
        "id": "EuqRWuDXrhxZ",
        "colab_type": "code",
        "colab": {}
      },
      "source": [
        ""
      ],
      "execution_count": 0,
      "outputs": []
    }
  ]
}